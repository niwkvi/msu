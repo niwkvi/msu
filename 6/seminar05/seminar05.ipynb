{
 "cells": [
  {
   "cell_type": "code",
   "execution_count": 1,
   "id": "89c723e3",
   "metadata": {
    "pycharm": {
     "is_executing": true,
     "name": "#%%\n"
    }
   },
   "outputs": [],
   "source": [
    "import numpy as np\n",
    "import matplotlib.pyplot as plt"
   ]
  },
  {
   "cell_type": "code",
   "execution_count": 2,
   "id": "55f2a465",
   "metadata": {
    "pycharm": {
     "name": "#%%\n"
    }
   },
   "outputs": [],
   "source": [
    "def load_data(path='mnist.npz'):\n",
    "    with np.load(path, allow_pickle=True) as f:\n",
    "        x_train, y_train = f['x_train'], f['y_train']\n",
    "        x_test, y_test = f['x_test'], f['y_test']\n",
    "\n",
    "    return (x_train, y_train), (x_test, y_test)"
   ]
  },
  {
   "cell_type": "code",
   "execution_count": 3,
   "id": "94287c66",
   "metadata": {
    "pycharm": {
     "name": "#%%\n"
    }
   },
   "outputs": [],
   "source": [
    "(x_train, y_train), (x_test, y_test) = load_data(path='mnist.npz')"
   ]
  },
  {
   "cell_type": "code",
   "execution_count": 4,
   "id": "7893bcc4",
   "metadata": {
    "pycharm": {
     "name": "#%%\n"
    }
   },
   "outputs": [
    {
     "data": {
      "image/png": "[encoded data removed]",
      "text/plain": [
       "<Figure size 432x288 with 1 Axes>"
      ]
     },
     "metadata": {
      "needs_background": "light"
     },
     "output_type": "display_data"
    }
   ],
   "source": [
    "index = 127\n",
    "plt.imshow(x_test[index])\n",
    "plt.show()"
   ]
  },
  {
   "cell_type": "code",
   "execution_count": 11,
   "id": "9b7c5685",
   "metadata": {
    "pycharm": {
     "name": "#%%\n"
    }
   },
   "outputs": [],
   "source": [
    "class MyFirstClassifier(object):\n",
    "    def __init__(self):\n",
    "        self.x_train = None\n",
    "        self.y_train = None\n",
    "\n",
    "    def fit(self, x_train, y_train):\n",
    "        self.x_train = (x_train.astype(np.float32) / 255.)[:2000]\n",
    "        self.y_train = y_train[:2000]\n",
    "\n",
    "    def predict(self, x_test):\n",
    "        pred_ans = []\n",
    "\n",
    "        for pred_x in (x_test.astype(np.float32) / 255.):\n",
    "            min_dist = np.Inf\n",
    "            ans = -1\n",
    "\n",
    "            for x, y in zip(self.x_train, self.y_train):\n",
    "                dist = np.linalg.norm(x - pred_x)\n",
    "                if dist < min_dist:\n",
    "                    min_dist = dist\n",
    "                    ans = y\n",
    "\n",
    "            pred_ans.append(ans)\n",
    "\n",
    "        return pred_ans\n",
    "    \n",
    "def accuracy_score(pred, gt):\n",
    "    return np.mean(pred==gt)"
   ]
  },
  {
   "cell_type": "code",
   "execution_count": 12,
   "id": "96a0f9ce",
   "metadata": {
    "pycharm": {
     "name": "#%%\n"
    }
   },
   "outputs": [
    {
     "name": "stdout",
     "output_type": "stream",
     "text": [
      "0.9028\n"
     ]
    }
   ],
   "source": [
    "cls = MyFirstClassifier()\n",
    "cls.fit(x_train, y_train)\n",
    "pred = cls.predict(x_test)\n",
    "\n",
    "print('%.4f' % accuracy_score(pred, y_test))"
   ]
  }
 ],
 "metadata": {
  "kernelspec": {
   "display_name": "Python 3 (ipykernel)",
   "language": "python",
   "name": "python3"
  },
  "language_info": {
   "codemirror_mode": {
    "name": "ipython",
    "version": 3
   },
   "file_extension": ".py",
   "mimetype": "text/x-python",
   "name": "python",
   "nbconvert_exporter": "python",
   "pygments_lexer": "ipython3",
   "version": "3.10.4"
  }
 },
 "nbformat": 4,
 "nbformat_minor": 5
}