{
 "cells": [
  {
   "cell_type": "markdown",
   "metadata": {
    "id": "rqWp4v7V96RH",
    "pycharm": {
     "name": "#%% md\n"
    }
   },
   "source": [
    "### **KNN KD Tree Regressor**"
   ]
  },
  {
   "cell_type": "markdown",
   "metadata": {
    "id": "4wvrSzvr9id5",
    "pycharm": {
     "name": "#%% md\n"
    }
   },
   "source": [
    "## **All Dependencies**"
   ]
  },
  {
   "cell_type": "code",
   "execution_count": 1,
   "metadata": {
    "id": "QtnOi4ab9T4q",
    "pycharm": {
     "name": "#%%\n"
    }
   },
   "outputs": [],
   "source": [
    "import tests\n",
    "import model\n",
    "\n",
    "import numpy as np\n",
    "import pandas as pd\n",
    "\n",
    "from sklearn.neighbors import KNeighborsRegressor\n",
    "from sklearn.metrics import mean_squared_error\n",
    "\n",
    "from sklearn.datasets import fetch_california_housing, make_regression\n",
    "from sklearn.model_selection import train_test_split\n",
    "from sklearn.preprocessing import StandardScaler"
   ]
  },
  {
   "cell_type": "markdown",
   "metadata": {
    "id": "8CyKdqSz9p6B",
    "pycharm": {
     "name": "#%% md\n"
    }
   },
   "source": [
    "## **Testing**"
   ]
  },
  {
   "cell_type": "markdown",
   "metadata": {
    "pycharm": {
     "name": "#%% md\n"
    }
   },
   "source": [
    "- **test_num=1**\n",
    "- **n_neighbors=10:**\n",
    "- **weights='uniform'**\n",
    "- **leaf_size=30**\n",
    "- **p=1**"
   ]
  },
  {
   "cell_type": "code",
   "execution_count": 2,
   "metadata": {
    "id": "NGr4NFYB9xM2",
    "pycharm": {
     "name": "#%%\n"
    }
   },
   "outputs": [
    {
     "name": "stdout",
     "output_type": "stream",
     "text": [
      "Number of tests: 5\n",
      "\n",
      "errors_test is in progress\n",
      "errors_test passed successfully\n",
      "\n",
      "random_dataset_test is in progress\n",
      "random_dataset_tests passed successfully\n",
      "my_score\t\tsk_score\n",
      "17301.47139056451\t11728.083549461871\n",
      "13910.2803339187\t7899.077983688408\n",
      "18221.24137581522\t11952.81124860926\n",
      "13496.384615358354\t8481.723383655346\n",
      "27431.10969494344\t20842.039515382967\n",
      "\n",
      "california_dataset_test is in progress\n",
      "california_dataset_test passed successfully\n",
      "my_score\t\tsk_score\n",
      "0.019264712069721374\t0.015334562057598132\n",
      "\n",
      "Testing is over\n"
     ]
    }
   ],
   "source": [
    "test_num = 5\n",
    "tests.tests(test_num)"
   ]
  },
  {
   "cell_type": "markdown",
   "metadata": {
    "id": "tRLSP3nc9xsY",
    "pycharm": {
     "name": "#%% md\n"
    }
   },
   "source": [
    "## **Tuning**"
   ]
  },
  {
   "cell_type": "code",
   "execution_count": 3,
   "metadata": {
    "id": "BQZ8drg594bK",
    "pycharm": {
     "name": "#%%\n"
    }
   },
   "outputs": [],
   "source": [
    "x, y = fetch_california_housing(as_frame=True, return_X_y=True)\n",
    "\n",
    "scaler = StandardScaler()\n",
    "x = scaler.fit_transform(x)\n",
    "\n",
    "y = (y - np.min(y)) / (np.max(y) - np.min(y))\n",
    "\n",
    "is_good = np.all(x < 3, axis=1)\n",
    "x = x[is_good]\n",
    "y = y[is_good]\n",
    "\n",
    "x_train, x_test, y_train, y_test = train_test_split(x, y, shuffle=True, test_size=0.25, random_state=42)"
   ]
  },
  {
   "cell_type": "code",
   "execution_count": 4,
   "metadata": {
    "pycharm": {
     "name": "#%%\n"
    }
   },
   "outputs": [
    {
     "name": "stdout",
     "output_type": "stream",
     "text": [
      "7\n"
     ]
    }
   ],
   "source": [
    "n_neighbors = [i for i in range(1, 30, 2)]\n",
    "scores = []\n",
    "\n",
    "for n in n_neighbors:\n",
    "    knn = model.KnnKdtreeRegressor(n_neighbors=n)\n",
    "    knn.fit(x_train, y_train)\n",
    "    y_pred = knn.predict(x_test)\n",
    "    scores.append(knn.score(y_test, y_pred))\n",
    "\n",
    "optimal_n_index = scores.index(min(scores))\n",
    "optimal_n = n_neighbors[optimal_n_index]\n",
    "print(optimal_n)"
   ]
  },
  {
   "cell_type": "code",
   "execution_count": 5,
   "metadata": {
    "pycharm": {
     "name": "#%%\n"
    }
   },
   "outputs": [
    {
     "name": "stdout",
     "output_type": "stream",
     "text": [
      "0.019316315331072552\n"
     ]
    }
   ],
   "source": [
    "knn = model.KnnKdtreeRegressor(n_neighbors=optimal_n)\n",
    "knn.fit(x_train, y_train)\n",
    "y_pred = knn.predict(x_test)\n",
    "print(knn.score(y_pred, y_test))"
   ]
  }
 ],
 "metadata": {
  "colab": {
   "name": "run.ipynb",
   "provenance": []
  },
  "kernelspec": {
   "display_name": "Python 3 (ipykernel)",
   "language": "python",
   "name": "python3"
  },
  "language_info": {
   "codemirror_mode": {
    "name": "ipython",
    "version": 3
   },
   "file_extension": ".py",
   "mimetype": "text/x-python",
   "name": "python",
   "nbconvert_exporter": "python",
   "pygments_lexer": "ipython3",
   "version": "3.10.4"
  },
  "vscode": {
   "interpreter": {
    "hash": "7c86639e6d3af232effa79a37e508a840855a83893cb878e7b1408d774894840"
   }
  }
 },
 "nbformat": 4,
 "nbformat_minor": 1
}