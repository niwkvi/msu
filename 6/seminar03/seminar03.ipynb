{
 "cells": [
  {
   "cell_type": "code",
   "execution_count": 1,
   "metadata": {
    "pycharm": {
     "name": "#%%\n"
    }
   },
   "outputs": [],
   "source": [
    "import sys\n",
    "import os\n",
    "import math\n",
    "import copy\n",
    "import json\n",
    "import random"
   ]
  },
  {
   "cell_type": "code",
   "execution_count": 12,
   "metadata": {
    "pycharm": {
     "name": "#%%\n"
    }
   },
   "outputs": [],
   "source": [
    "class Matrix:\n",
    "    def __init__(self, nrows, ncols, init='zeros'):\n",
    "        assert nrows > 0 and ncols > 0\n",
    "        self.nrows = nrows\n",
    "        self.ncols = ncols\n",
    "        \n",
    "        if init == 'zeros':\n",
    "            self.data = [[0 for col in range(ncols)] for row in range(nrows)]\n",
    "        elif init == 'ones':\n",
    "            self.data = [[1 for col in range(ncols)] for row in range(nrows)]\n",
    "        elif init == 'random':\n",
    "            self.data = [[random.random() for col in range(ncols)] for row in range(nrows)]\n",
    "        elif init == 'eye':\n",
    "            self.data = [[1 if col == row else 0 for col in range(ncols)] for row in range(nrows)]\n",
    "\n",
    "    @staticmethod\n",
    "    def fromDict(data):\n",
    "        ncols = data['ncols']\n",
    "        nrows = data['nrows']\n",
    "        items = data['data']\n",
    "        assert len(items) == ncols * nrows\n",
    "        m = Matrix(nrows, ncols)\n",
    "        for row in range(nrows):\n",
    "            for col in range(ncols):\n",
    "                m[(row, col)] = items[ncols * row + col]\n",
    "        return m\n",
    "\n",
    "    @staticmethod\n",
    "    def toDict(M):\n",
    "        assert isinstance(M, Matrix)\n",
    "        nrows, ncols = M.shape()\n",
    "        data = []\n",
    "        for row in range(nrows):\n",
    "            for col in range(ncols):\n",
    "                data.append(M[(row, col)])\n",
    "        return {'nrows': nrows, 'ncols': ncols, 'data': data}\n",
    "\n",
    "    def __str__(self):\n",
    "        return '\\n'.join(['\\t'.join([str(elem) for elem in row]) for row in self.data])\n",
    "\n",
    "    def __repr__(self):\n",
    "        return repr(self.data)\n",
    "\n",
    "    def shape(self):\n",
    "        return self.nrows, self.ncols\n",
    "\n",
    "    def __getitem__(self, index):\n",
    "        row, col = index\n",
    "        return self.data[row][col]\n",
    "\n",
    "    def __setitem__(self, index, value):\n",
    "        row, col = index\n",
    "        self.data[row][col] = value\n",
    "\n",
    "    def __sub__(self, rhs):\n",
    "        assert self.nrows == rhs.nrows and self.ncols == rhs.ncols\n",
    "        res = [[self.data[row][col] - rhs.data[row][col] for col in range(self.ncols)] for row in range(self.nrows)]\n",
    "        \n",
    "        new_matrix = Matrix(self.nrows, self.ncols)\n",
    "        new_matrix.data = copy.deepcopy(res)\n",
    "        \n",
    "        return new_matrix\n",
    "\n",
    "    def __add__(self, rhs):\n",
    "        assert self.nrows == rhs.nrows and self.ncols == rhs.ncols\n",
    "        res = [[self.data[row][col] + rhs.data[row][col] for col in range(self.ncols)] for row in range(self.nrows)]\n",
    "        \n",
    "        new_matrix = Matrix(self.nrows, self.ncols)\n",
    "        new_matrix.data = copy.deepcopy(res)\n",
    "        \n",
    "        return new_matrix\n",
    "    \n",
    "    def __mul__(self, rhs):\n",
    "        assert self.ncols == rhs.nrows\n",
    "        res = [[sum(self.data[row][cur] * rhs.data[cur][col] for cur in range(rhs.nrows)) for col in range(rhs.ncols)] \n",
    "               for row in range(self.nrows)]\n",
    "        \n",
    "        new_matrix = Matrix(self.nrows, rhs.ncols)\n",
    "        new_matrix.data = copy.deepcopy(res)\n",
    "        \n",
    "        return new_matrix\n",
    "    \n",
    "    def __pow__(self, power):\n",
    "        res = [[self.data[row][col] ** power for col in range(self.ncols)] for row in range(self.nrows)]\n",
    "        \n",
    "        new_matrix = Matrix(self.nrows, self.ncols)\n",
    "        new_matrix.data = copy.deepcopy(res)\n",
    "        \n",
    "        return new_matrix\n",
    "\n",
    "    def sum(self):\n",
    "        return sum(sum(self.data[row][col] for row in range(self.nrows)) for col in range(self.ncols))\n",
    "\n",
    "    def minor(self, remove_row, remove_col):\n",
    "        minor = [row[:remove_col] + row[remove_col + 1:] for row in (self.data[:remove_row] + self.data[remove_row + 1:])]\n",
    "        \n",
    "        minor_matrix = Matrix(self.nrows - 1, self.ncols - 1)\n",
    "        minor_matrix.data = copy.deepcopy(minor)\n",
    "        \n",
    "        return minor_matrix\n",
    "    \n",
    "    def det(self):\n",
    "        assert self.nrows == self.ncols\n",
    "        if self.nrows == 2:\n",
    "            return self.data[0][0] * self.data[1][1] - self.data[0][1] * self.data[1][0]\n",
    "        else:\n",
    "            return sum((-1) ** col * self.data[0][col] * self.minor(0, col).det() for col in range(self.ncols))\n",
    "    \n",
    "    def transpose(self):\n",
    "        res = [[self.data[row][col] for row in range(self.nrows)] for col in range(self.ncols)]\n",
    "        \n",
    "        new_matrix = Matrix(self.nrows, self.ncols)\n",
    "        new_matrix.data = copy.deepcopy(res)\n",
    "        \n",
    "        return new_matrix\n",
    "\n",
    "    def inv(self):\n",
    "        assert self.nrows == self.ncols\n",
    "        det = self.det()\n",
    "        assert det != 0\n",
    "        \n",
    "        if self.nrows == 2:\n",
    "            res = [[self.data[1][1] / det, -1 * self.data[0][1] / det], \n",
    "                   [-1 * self.data[1][0] / det, self.data[0][0] / det]]\n",
    "            \n",
    "            new_matrix = Matrix(self.nrows, self.ncols)\n",
    "            new_matrix.data = copy.deepcopy(res)\n",
    "            \n",
    "            return new_matrix\n",
    "\n",
    "        else:\n",
    "            minors_data = [[((-1) ** (row + col)) * self.minor(row, col).det() for col in range(self.ncols)] \n",
    "                           for row in range(self.nrows)]\n",
    "            \n",
    "            minors = Matrix(self.nrows, self.ncols)\n",
    "            minors.data = copy.deepcopy(minors_data)\n",
    "            \n",
    "            minors_t = minors.transpose()\n",
    "            minors_t_data = [[minors_t.data[row][col] / det for col in range(self.ncols)] for row in range(self.nrows)]\n",
    "            minors_t.data = copy.deepcopy(minors_t_data)\n",
    "            \n",
    "            return minors_t"
   ]
  },
  {
   "cell_type": "code",
   "execution_count": 13,
   "metadata": {
    "pycharm": {
     "name": "#%%\n"
    }
   },
   "outputs": [],
   "source": [
    "def load_file(filename):\n",
    "    with open(filename, 'r') as f:\n",
    "        input_file = json.load(f)\n",
    "        A = Matrix.fromDict(input_file['A'])\n",
    "        B = Matrix.fromDict(input_file['B'])\n",
    "    return A, B"
   ]
  },
  {
   "cell_type": "code",
   "execution_count": null,
   "metadata": {
    "pycharm": {
     "name": "#%%\n"
    }
   },
   "outputs": [],
   "source": [
    "filename = 'input_007.json'\n",
    "A, B = load_file(filename)\n",
    "print('Матрица A: ')\n",
    "print(A)\n",
    "print('Матрица B: ')\n",
    "print(B)\n",
    "C = A*B\n",
    "print('Матрица C = A*B: ')\n",
    "print(C)\n",
    "C_t = C.transpose()\n",
    "print('Транспонированная матрица C: ')\n",
    "print(C_t)\n",
    "C_inv = C.inv()\n",
    "print('Матрица, обратная C: ')\n",
    "print(C_inv)\n",
    "E = Matrix(C_inv.ncols, C_inv.nrows, init='eye')\n",
    "D = C_inv + E\n",
    "print('Матрица D равная сумме C и единичной матрицы: ')\n",
    "print(D)\n",
    "D_det = D.det()\n",
    "print('Определитель матрицы D: ', D_det)\n",
    "D_norm = (D**2).sum()**0.5\n",
    "print('Норма Фробениуса матрицы D: ', D_norm)"
   ]
  },
  {
   "cell_type": "code",
   "execution_count": 18,
   "metadata": {
    "pycharm": {
     "name": "#%%\n"
    }
   },
   "outputs": [],
   "source": [
    "A_dict = Matrix.toDict(A)\n",
    "B_dict = Matrix.toDict(B)\n",
    "C_dict = Matrix.toDict(C)\n",
    "Ct_dict = Matrix.toDict(C_t)\n",
    "Cinv_dict = Matrix.toDict(C_inv)\n",
    "result = {\n",
    "    'A': A_dict,\n",
    "    'B': B_dict,\n",
    "    'C': C_dict,\n",
    "    'Ct': Ct_dict,\n",
    "    'Cinv': Cinv_dict,\n",
    "    'D_det': D_det,\n",
    "    'D_norm': D_norm\n",
    "}"
   ]
  },
  {
   "cell_type": "code",
   "execution_count": 19,
   "metadata": {
    "pycharm": {
     "name": "#%%\n"
    }
   },
   "outputs": [],
   "source": [
    "def save_file(filename, data):\n",
    "    with open(filename, 'w') as f:\n",
    "        input_file = json.dump(data, f)"
   ]
  },
  {
   "cell_type": "code",
   "execution_count": 20,
   "metadata": {
    "pycharm": {
     "name": "#%%\n"
    }
   },
   "outputs": [],
   "source": [
    "save_file('result.json', result)"
   ]
  }
 ],
 "metadata": {
  "kernelspec": {
   "display_name": "Python 3 (ipykernel)",
   "language": "python",
   "name": "python3"
  },
  "language_info": {
   "codemirror_mode": {
    "name": "ipython",
    "version": 3
   },
   "file_extension": ".py",
   "mimetype": "text/x-python",
   "name": "python",
   "nbconvert_exporter": "python",
   "pygments_lexer": "ipython3",
   "version": "3.10.4"
  }
 },
 "nbformat": 4,
 "nbformat_minor": 1
}
